{
 "cells": [
  {
   "cell_type": "markdown",
   "metadata": {},
   "source": [
    "#  AD Tutorial - CLAD & Jupyter Notebook "
   ]
  },
  {
   "cell_type": "markdown",
   "metadata": {},
   "source": [
    "xeus-cling provides a Jupyter kernel for C++ with the help of the C++ interpreter cling and the native implementation of the Jupyter protocol xeus.\n",
    "\n",
    "Within the xeus-cling framework, Clad can enable automatic differentiation (AD) such that users can automatically generate C++ code for their computation of derivatives of their functions.\n",
    "\n"
   ]
  },
  {
   "cell_type": "code",
   "execution_count": 1,
   "metadata": {},
   "outputs": [],
   "source": [
    "#include \"clad/Differentiator/Differentiator.h\"\n",
    "#include <iostream>"
   ]
  },
  {
   "cell_type": "markdown",
   "metadata": {},
   "source": [
    "## Forward Mode AD"
   ]
  },
  {
   "cell_type": "markdown",
   "metadata": {},
   "source": [
    "For a function _f_ of several inputs and single (scalar) output, forward mode AD can be used to compute (or, in case of Clad, create a function) computing a directional derivative of _f_ with respect to a single specified input variable. Moreover, the generated derivative function has the same signature as the original function _f_, however its return value is the value of the derivative."
   ]
  },
  {
   "cell_type": "code",
   "execution_count": 2,
   "metadata": {},
   "outputs": [],
   "source": [
    "double fn(double x, double y) {\n",
    "  return x*x*y + y*y;\n",
    "}"
   ]
  },
  {
   "cell_type": "code",
   "execution_count": 3,
   "metadata": {},
   "outputs": [],
   "source": [
    "auto fn_dx = clad::differentiate(fn, \"x\");"
   ]
  },
  {
   "cell_type": "code",
   "execution_count": 4,
   "metadata": {},
   "outputs": [
    {
     "data": {
      "text/plain": [
       "30.000000"
      ]
     },
     "execution_count": 4,
     "metadata": {},
     "output_type": "execute_result"
    }
   ],
   "source": [
    "fn_dx.execute(5, 3)"
   ]
  },
  {
   "cell_type": "markdown",
   "metadata": {},
   "source": [
    "## Reverse Mode AD"
   ]
  },
  {
   "cell_type": "markdown",
   "metadata": {},
   "source": [
    "Reverse-mode AD enables the gradient computation within a single pass of the computation graph of _f_ using at most a constant factor (around 4) more arithmetical operations compared to the original function. While its constant factor and memory overhead is higher than that of the forward-mode, it is independent of the number of inputs.\n",
    "\n",
    "Moreover, the generated function has void return type and same input arguments. The function has an additional argument of type T*, where T is the return type of _f_. This is the “result” argument which has to point to the beginning of the vector where the gradient will be stored."
   ]
  },
  {
   "cell_type": "code",
   "execution_count": 5,
   "metadata": {},
   "outputs": [],
   "source": [
    "double fn(double x, double y) {\n",
    "  return x*x + y*y;\n",
    "}"
   ]
  },
  {
   "cell_type": "code",
   "execution_count": 6,
   "metadata": {},
   "outputs": [],
   "source": [
    "auto d_fn_2 = clad::gradient(fn, \"x, y\");\n",
    "double d_x, d_y;"
   ]
  },
  {
   "cell_type": "code",
   "execution_count": 7,
   "metadata": {},
   "outputs": [
    {
     "name": "stdout",
     "output_type": "stream",
     "text": [
      "The code is: void fn_grad(double x, double y, clad::array_ref<double> _d_x, clad::array_ref<double> _d_y) {\n",
      "    double _t2;\n",
      "    double _t3;\n",
      "    double _t4;\n",
      "    double _t5;\n",
      "    _t3 = x;\n",
      "    _t2 = x;\n",
      "    _t5 = y;\n",
      "    _t4 = y;\n",
      "    double fn_return = _t3 * _t2 + _t5 * _t4;\n",
      "    goto _label0;\n",
      "  _label0:\n",
      "    {\n",
      "        double _r0 = 1 * _t2;\n",
      "        * _d_x += _r0;\n",
      "        double _r1 = _t3 * 1;\n",
      "        * _d_x += _r1;\n",
      "        double _r2 = 1 * _t4;\n",
      "        * _d_y += _r2;\n",
      "        double _r3 = _t5 * 1;\n",
      "        * _d_y += _r3;\n",
      "    }\n",
      "}\n",
      "\n"
     ]
    }
   ],
   "source": [
    "d_fn_2.dump();"
   ]
  },
  {
   "cell_type": "markdown",
   "metadata": {},
   "source": [
    "## Hessian"
   ]
  },
  {
   "cell_type": "code",
   "execution_count": 8,
   "metadata": {},
   "outputs": [],
   "source": [
    "double kinetic_energy(double mass, double velocity) {\n",
    "  return mass * velocity * velocity * 0.5;\n",
    "}"
   ]
  },
  {
   "cell_type": "code",
   "execution_count": 9,
   "metadata": {},
   "outputs": [],
   "source": [
    "auto hessian = clad::hessian(kinetic_energy, \"mass, velocity\");\n",
    "double matrix[4];\n",
    "hessian.execute(10, 2, matrix)"
   ]
  },
  {
   "cell_type": "code",
   "execution_count": 10,
   "metadata": {},
   "outputs": [
    {
     "data": {
      "text/plain": [
       "{ 0.0000000, 2.0000000, 2.0000000, 10.000000 }"
      ]
     },
     "execution_count": 10,
     "metadata": {},
     "output_type": "execute_result"
    }
   ],
   "source": [
    "matrix"
   ]
  },
  {
   "cell_type": "markdown",
   "metadata": {},
   "source": [
    "## Jacobian"
   ]
  },
  {
   "cell_type": "code",
   "execution_count": 11,
   "metadata": {},
   "outputs": [],
   "source": [
    "void fn_jacobian(double i, double j, double *res) {\n",
    "  res[0] = i*i;\n",
    "  res[1] = j*j;\n",
    "  res[2] = i*j;\n",
    "}"
   ]
  },
  {
   "cell_type": "code",
   "execution_count": 12,
   "metadata": {},
   "outputs": [],
   "source": [
    "auto d_fn = clad::jacobian(fn_jacobian);\n",
    "double res[3] = {0, 0, 0};\n",
    "double derivatives[6] = {0, 0, 0, 0, 0, 0};\n",
    "d_fn.execute(3, 5, res, derivatives);"
   ]
  },
  {
   "cell_type": "code",
   "execution_count": 13,
   "metadata": {},
   "outputs": [
    {
     "data": {
      "text/plain": [
       "{ 6.0000000, 0.0000000, 0.0000000, 10.000000, 5.0000000, 3.0000000 }"
      ]
     },
     "execution_count": 13,
     "metadata": {},
     "output_type": "execute_result"
    }
   ],
   "source": [
    "derivatives"
   ]
  },
  {
   "cell_type": "code",
   "execution_count": 14,
   "metadata": {},
   "outputs": [
    {
     "name": "stdout",
     "output_type": "stream",
     "text": [
      "Jacobian matrix:\n",
      "6 0 \n",
      "0 10 \n",
      "5 3 \n"
     ]
    }
   ],
   "source": [
    "std::cout<<\"Jacobian matrix:\\n\";\n",
    "  for (int i=0; i<3; ++i) {\n",
    "    for (int j=0; j<2; ++j) {\n",
    "      std::cout<<derivatives[i*2 + j]<<\" \";\n",
    "    }\n",
    "    std::cout<<\"\\n\";\n",
    "  }"
   ]
  },
  {
   "cell_type": "markdown",
   "metadata": {},
   "source": [
    "## Functors"
   ]
  },
  {
   "cell_type": "code",
   "execution_count": 15,
   "metadata": {},
   "outputs": [],
   "source": [
    "class Equation {\n",
    "  double m_x, m_y;\n",
    "\n",
    "  public:\n",
    "  Equation(double x, double y) : m_x(x), m_y(y) {}\n",
    "  double operator()(double i, double j) {\n",
    "    return m_x*i*j + m_y*i*j;\n",
    "  }\n",
    "  void setX(double x) {\n",
    "    m_x = x;\n",
    "  }\n",
    "};"
   ]
  },
  {
   "cell_type": "code",
   "execution_count": 16,
   "metadata": {},
   "outputs": [],
   "source": [
    "Equation E(3,5);\n",
    "auto d_E = clad::differentiate(E, \"i\");"
   ]
  },
  {
   "cell_type": "code",
   "execution_count": 17,
   "metadata": {},
   "outputs": [
    {
     "name": "stdout",
     "output_type": "stream",
     "text": [
      "The code is: double operator_call_darg0(double i, double j) {\n",
      "    double _d_i = 1;\n",
      "    double _d_j = 0;\n",
      "    double &_t2 = this->m_x;\n",
      "    double _t3 = _t2 * i;\n",
      "    double &_t4 = this->m_y;\n",
      "    double _t5 = _t4 * i;\n",
      "    return (0. * i + _t2 * _d_i) * j + _t3 * _d_j + (0. * i + _t4 * _d_i) * j + _t5 * _d_j;\n",
      "}\n",
      "\n"
     ]
    }
   ],
   "source": [
    "d_E.dump()"
   ]
  },
  {
   "cell_type": "code",
   "execution_count": null,
   "metadata": {},
   "outputs": [],
   "source": []
  }
 ],
 "metadata": {
  "kernelspec": {
   "display_name": "C++11",
   "language": "C++11",
   "name": "xcpp11-clad"
  },
  "language_info": {
   "codemirror_mode": "text/x-c++src",
   "file_extension": ".cpp",
   "mimetype": "text/x-c++src",
   "name": "c++",
   "version": "11"
  }
 },
 "nbformat": 4,
 "nbformat_minor": 5
}
